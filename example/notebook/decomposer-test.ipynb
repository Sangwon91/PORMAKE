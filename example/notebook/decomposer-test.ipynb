{
 "cells": [
  {
   "cell_type": "code",
   "execution_count": 1,
   "metadata": {},
   "outputs": [
    {
     "name": "stderr",
     "output_type": "stream",
     "text": [
      ">>> No edge building block for type (0, 1) in edge_bbs.\n",
      ">>> == Min RMSD of (node type: 0, node bb: N10): 1.75E-05\n",
      ">>> Pre-location at node slot 0, (node type: 0, node bb: N10), RMSD: 1.75E-05\n",
      ">>> Pre-location at node slot 1, (node type: 0, node bb: N10), RMSD: 1.75E-05\n",
      ">>> Pre-location at node slot 2, (node type: 0, node bb: N10), RMSD: 1.75E-05\n",
      ">>> Pre-location at node slot 3, (node type: 0, node bb: N10), RMSD: 1.75E-05\n",
      ">>> Pre-location at node slot 4, (node type: 0, node bb: N10), RMSD: 1.75E-05\n",
      ">>> Pre-location at node slot 5, (node type: 0, node bb: N10), RMSD: 1.75E-05\n",
      ">>> Pre-location at node slot 6, (node type: 0, node bb: N10), RMSD: 1.75E-05\n",
      ">>> Pre-location at node slot 7, (node type: 0, node bb: N10), RMSD: 1.75E-05\n",
      ">>> Pre-location at node slot 8, (node type: 0, node bb: N10), RMSD: 1.75E-05\n",
      ">>> Pre-location at node slot 9, (node type: 0, node bb: N10), RMSD: 1.75E-05\n",
      ">>> Pre-location at node slot 10, (node type: 0, node bb: N10), RMSD: 1.75E-05\n",
      ">>> Pre-location at node slot 11, (node type: 0, node bb: N10), RMSD: 1.75E-05\n",
      ">>> Pre-location at node slot 12, (node type: 0, node bb: N10), RMSD: 1.75E-05\n",
      ">>> Pre-location at node slot 13, (node type: 0, node bb: N10), RMSD: 1.75E-05\n",
      ">>> Pre-location at node slot 14, (node type: 0, node bb: N10), RMSD: 1.75E-05\n",
      ">>> Pre-location at node slot 15, (node type: 0, node bb: N10), RMSD: 1.75E-05\n",
      ">>> Pre-location at node slot 16, (node type: 0, node bb: N10), RMSD: 1.75E-05\n",
      ">>> Pre-location at node slot 17, (node type: 0, node bb: N10), RMSD: 1.75E-05\n",
      ">>> Pre-location at node slot 18, (node type: 0, node bb: N10), RMSD: 1.75E-05\n",
      ">>> Pre-location at node slot 19, (node type: 0, node bb: N10), RMSD: 1.75E-05\n",
      ">>> Pre-location at node slot 20, (node type: 0, node bb: N10), RMSD: 1.75E-05\n",
      ">>> Pre-location at node slot 21, (node type: 0, node bb: N10), RMSD: 1.75E-05\n",
      ">>> Pre-location at node slot 22, (node type: 0, node bb: N10), RMSD: 1.75E-05\n",
      ">>> Pre-location at node slot 23, (node type: 0, node bb: N10), RMSD: 1.75E-05\n",
      ">>> Pre-location at node slot 24, (node type: 0, node bb: N10), RMSD: 1.75E-05\n",
      ">>> Pre-location at node slot 25, (node type: 0, node bb: N10), RMSD: 1.75E-05\n",
      ">>> Pre-location at node slot 26, (node type: 0, node bb: N10), RMSD: 1.75E-05\n",
      ">>> Pre-location at node slot 27, (node type: 0, node bb: N10), RMSD: 1.75E-05\n",
      ">>> Pre-location at node slot 28, (node type: 0, node bb: N10), RMSD: 1.75E-05\n",
      ">>> Pre-location at node slot 29, (node type: 0, node bb: N10), RMSD: 1.75E-05\n",
      ">>> Pre-location at node slot 30, (node type: 0, node bb: N10), RMSD: 1.75E-05\n",
      ">>> Pre-location at node slot 31, (node type: 0, node bb: N10), RMSD: 1.75E-05\n",
      ">>> == Min RMSD of (node type: 1, node bb: N409): 1.43E-01\n",
      ">>> Pre-location at node slot 32, (node type: 1, node bb: N409), RMSD: 1.43E-01\n",
      ">>> Pre-location at node slot 33, (node type: 1, node bb: N409), RMSD: 1.43E-01\n",
      ">>> Pre-location at node slot 34, (node type: 1, node bb: N409), RMSD: 1.43E-01\n",
      ">>> Pre-location at node slot 35, (node type: 1, node bb: N409), RMSD: 1.43E-01\n",
      ">>> Pre-location at node slot 36, (node type: 1, node bb: N409), RMSD: 1.43E-01\n",
      ">>> Pre-location at node slot 37, (node type: 1, node bb: N409), RMSD: 1.43E-01\n",
      ">>> Pre-location at node slot 38, (node type: 1, node bb: N409), RMSD: 1.43E-01\n",
      ">>> Pre-location at node slot 39, (node type: 1, node bb: N409), RMSD: 1.43E-01\n",
      ">>> Pre-location at node slot 40, (node type: 1, node bb: N409), RMSD: 1.43E-01\n",
      ">>> Pre-location at node slot 41, (node type: 1, node bb: N409), RMSD: 1.43E-01\n",
      ">>> Pre-location at node slot 42, (node type: 1, node bb: N409), RMSD: 1.43E-01\n",
      ">>> Pre-location at node slot 43, (node type: 1, node bb: N409), RMSD: 1.43E-01\n",
      ">>> Pre-location at node slot 44, (node type: 1, node bb: N409), RMSD: 1.43E-01\n",
      ">>> Pre-location at node slot 45, (node type: 1, node bb: N409), RMSD: 1.43E-01\n",
      ">>> Pre-location at node slot 46, (node type: 1, node bb: N409), RMSD: 1.43E-01\n",
      ">>> Pre-location at node slot 47, (node type: 1, node bb: N409), RMSD: 1.43E-01\n",
      ">>> Pre-location at node slot 48, (node type: 1, node bb: N409), RMSD: 1.43E-01\n",
      ">>> Pre-location at node slot 49, (node type: 1, node bb: N409), RMSD: 1.43E-01\n",
      ">>> Pre-location at node slot 50, (node type: 1, node bb: N409), RMSD: 1.43E-01\n",
      ">>> Pre-location at node slot 51, (node type: 1, node bb: N409), RMSD: 1.43E-01\n",
      ">>> Pre-location at node slot 52, (node type: 1, node bb: N409), RMSD: 1.43E-01\n",
      ">>> Pre-location at node slot 53, (node type: 1, node bb: N409), RMSD: 1.43E-01\n",
      ">>> Pre-location at node slot 54, (node type: 1, node bb: N409), RMSD: 1.43E-01\n",
      ">>> Pre-location at node slot 55, (node type: 1, node bb: N409), RMSD: 1.43E-01\n",
      ">>> Topology optimization starts.\n",
      "No GPU/TPU found, falling back to CPU. (Set TF_CPP_MIN_LOG_LEVEL=0 and rerun for more info.)\n",
      ">>> MESSAGE: CONVERGENCE: REL_REDUCTION_OF_F_<=_FACTR*EPSMCH\n",
      ">>> SUCCESS: True\n",
      ">>> ITER: 36\n",
      ">>> OBJ: 0.001\n",
      ">>> Location at node slot 0, (node type: 0, node bb: N10), RMSD: 3.34E-03\n",
      ">>> Location at node slot 1, (node type: 0, node bb: N10), RMSD: 5.00E-03\n",
      ">>> Location at node slot 2, (node type: 0, node bb: N10), RMSD: 2.81E-03\n",
      ">>> Location at node slot 3, (node type: 0, node bb: N10), RMSD: 7.24E-04\n",
      ">>> Location at node slot 4, (node type: 0, node bb: N10), RMSD: 1.07E-03\n",
      ">>> Location at node slot 5, (node type: 0, node bb: N10), RMSD: 3.66E-03\n",
      ">>> Location at node slot 6, (node type: 0, node bb: N10), RMSD: 2.14E-03\n",
      ">>> Location at node slot 7, (node type: 0, node bb: N10), RMSD: 5.29E-03\n",
      ">>> Location at node slot 8, (node type: 0, node bb: N10), RMSD: 1.33E-03\n",
      ">>> Location at node slot 9, (node type: 0, node bb: N10), RMSD: 5.82E-03\n",
      ">>> Location at node slot 10, (node type: 0, node bb: N10), RMSD: 2.59E-03\n",
      ">>> Location at node slot 11, (node type: 0, node bb: N10), RMSD: 5.91E-03\n",
      ">>> Location at node slot 12, (node type: 0, node bb: N10), RMSD: 2.09E-03\n",
      ">>> Location at node slot 13, (node type: 0, node bb: N10), RMSD: 3.14E-03\n",
      ">>> Location at node slot 14, (node type: 0, node bb: N10), RMSD: 6.52E-04\n",
      ">>> Location at node slot 15, (node type: 0, node bb: N10), RMSD: 2.77E-03\n",
      ">>> Location at node slot 16, (node type: 0, node bb: N10), RMSD: 5.59E-03\n",
      ">>> Location at node slot 17, (node type: 0, node bb: N10), RMSD: 6.66E-03\n",
      ">>> Location at node slot 18, (node type: 0, node bb: N10), RMSD: 3.16E-03\n",
      ">>> Location at node slot 19, (node type: 0, node bb: N10), RMSD: 3.19E-03\n",
      ">>> Location at node slot 20, (node type: 0, node bb: N10), RMSD: 5.02E-03\n",
      ">>> Location at node slot 21, (node type: 0, node bb: N10), RMSD: 1.54E-03\n",
      ">>> Location at node slot 22, (node type: 0, node bb: N10), RMSD: 1.03E-03\n",
      ">>> Location at node slot 23, (node type: 0, node bb: N10), RMSD: 2.79E-03\n",
      ">>> Location at node slot 24, (node type: 0, node bb: N10), RMSD: 4.16E-03\n",
      ">>> Location at node slot 25, (node type: 0, node bb: N10), RMSD: 6.85E-03\n",
      ">>> Location at node slot 26, (node type: 0, node bb: N10), RMSD: 7.40E-03\n",
      ">>> Location at node slot 27, (node type: 0, node bb: N10), RMSD: 3.18E-03\n",
      ">>> Location at node slot 28, (node type: 0, node bb: N10), RMSD: 3.08E-03\n",
      ">>> Location at node slot 29, (node type: 0, node bb: N10), RMSD: 5.71E-03\n",
      ">>> Location at node slot 30, (node type: 0, node bb: N10), RMSD: 1.72E-03\n",
      ">>> Location at node slot 31, (node type: 0, node bb: N10), RMSD: 2.56E-03\n",
      ">>> Location at node slot 32, (node type: 1, node bb: N409), RMSD: 5.61E-03\n",
      ">>> Location at node slot 33, (node type: 1, node bb: N409), RMSD: 3.55E-03\n",
      ">>> Location at node slot 34, (node type: 1, node bb: N409), RMSD: 7.71E-03\n",
      ">>> Location at node slot 35, (node type: 1, node bb: N409), RMSD: 3.52E-03\n",
      ">>> Location at node slot 36, (node type: 1, node bb: N409), RMSD: 3.59E-03\n",
      ">>> Location at node slot 37, (node type: 1, node bb: N409), RMSD: 5.56E-03\n",
      ">>> Location at node slot 38, (node type: 1, node bb: N409), RMSD: 8.12E-03\n",
      ">>> Location at node slot 39, (node type: 1, node bb: N409), RMSD: 3.92E-03\n",
      ">>> Location at node slot 40, (node type: 1, node bb: N409), RMSD: 5.34E-03\n",
      ">>> Location at node slot 41, (node type: 1, node bb: N409), RMSD: 5.31E-03\n",
      ">>> Location at node slot 42, (node type: 1, node bb: N409), RMSD: 3.87E-03\n",
      ">>> Location at node slot 43, (node type: 1, node bb: N409), RMSD: 5.64E-03\n",
      ">>> Location at node slot 44, (node type: 1, node bb: N409), RMSD: 5.53E-03\n",
      ">>> Location at node slot 45, (node type: 1, node bb: N409), RMSD: 3.90E-03\n",
      ">>> Location at node slot 46, (node type: 1, node bb: N409), RMSD: 2.79E-03\n",
      ">>> Location at node slot 47, (node type: 1, node bb: N409), RMSD: 3.33E-03\n",
      ">>> Location at node slot 48, (node type: 1, node bb: N409), RMSD: 4.09E-03\n",
      ">>> Location at node slot 49, (node type: 1, node bb: N409), RMSD: 3.04E-03\n",
      ">>> Location at node slot 50, (node type: 1, node bb: N409), RMSD: 7.52E-03\n",
      ">>> Location at node slot 51, (node type: 1, node bb: N409), RMSD: 7.40E-03\n",
      ">>> Location at node slot 52, (node type: 1, node bb: N409), RMSD: 6.13E-03\n",
      ">>> Location at node slot 53, (node type: 1, node bb: N409), RMSD: 3.68E-03\n",
      ">>> Location at node slot 54, (node type: 1, node bb: N409), RMSD: 4.35E-03\n",
      ">>> Location at node slot 55, (node type: 1, node bb: N409), RMSD: 5.82E-03\n",
      ">>> Start placing edges.\n",
      ">>> Start finding bonds in generated framework.\n",
      ">>> Start finding bonds in building blocks.\n",
      ">>> Start finding bonds between building blocks.\n",
      ">>> Start making Framework instance.\n",
      ">>> Construction of framework done.\n",
      "/home/lsw91/miniforge3/envs/py310/lib/python3.10/site-packages/ase/utils/__init__.py:62: FutureWarning: Please use atoms.cell.cellpar() instead\n",
      "  warnings.warn(warning)\n"
     ]
    }
   ],
   "source": [
    "import pormake as pm\n",
    "\n",
    "database = pm.Database()\n",
    "tbo = database.get_topo(\"tbo\")\n",
    "\n",
    "# Copper paddle-wheel.\n",
    "N409 = database.get_bb(\"N409\")\n",
    "\n",
    "# BTC linker.\n",
    "N10 = database.get_bb(\"N10\")\n",
    "\n",
    "# Make HKUST-1.\n",
    "builder = pm.Builder()\n",
    "HKUST1 = builder.build_by_type(topology=tbo, node_bbs={0: N10, 1: N409})\n",
    "HKUST1.write_cif('HKUST-1.cif')"
   ]
  },
  {
   "cell_type": "code",
   "execution_count": 3,
   "metadata": {},
   "outputs": [],
   "source": [
    "from pormake.experimental.decomposer import MOFDecomposer"
   ]
  },
  {
   "cell_type": "code",
   "execution_count": 4,
   "metadata": {},
   "outputs": [
    {
     "name": "stderr",
     "output_type": "stream",
     "text": [
      "/home/lsw91/miniforge3/envs/py310/lib/python3.10/site-packages/ase/io/cif.py:401: UserWarning: crystal system 'triclinic' is not interpreted for space group Spacegroup(1, setting=1). This may result in wrong setting!\n",
      "  warnings.warn(\n"
     ]
    }
   ],
   "source": [
    "decomposer = MOFDecomposer(cif='HKUST-1.cif')"
   ]
  },
  {
   "cell_type": "code",
   "execution_count": 5,
   "metadata": {},
   "outputs": [],
   "source": [
    "decomposer.cleanup()"
   ]
  },
  {
   "cell_type": "code",
   "execution_count": 6,
   "metadata": {},
   "outputs": [
    {
     "data": {
      "text/plain": [
       "[Atoms(symbols='C6H3X3', pbc=True, cell=[[27.14, 0.0, 0.0], [-0.2846778772582845, 27.138506932147166, 0.0], [0.0, 0.14211187646410792, 27.139627930658296]]),\n",
       " Atoms(symbols='CCuO2CuCO2C2O4X4', pbc=True, cell=[[27.14, 0.0, 0.0], [-0.2846778772582845, 27.138506932147166, 0.0], [0.0, 0.14211187646410792, 27.139627930658296]]),\n",
       " Atoms(symbols='CCuO2CuCO2C2O4X4', pbc=True, cell=[[27.14, 0.0, 0.0], [-0.2846778772582845, 27.138506932147166, 0.0], [0.0, 0.14211187646410792, 27.139627930658296]]),\n",
       " Atoms(symbols='O2CCuO2CuCO2C2O2X4', pbc=True, cell=[[27.14, 0.0, 0.0], [-0.2846778772582845, 27.138506932147166, 0.0], [0.0, 0.14211187646410792, 27.139627930658296]]),\n",
       " Atoms(symbols='C6H3X3', pbc=True, cell=[[27.14, 0.0, 0.0], [-0.2846778772582845, 27.138506932147166, 0.0], [0.0, 0.14211187646410792, 27.139627930658296]]),\n",
       " Atoms(symbols='CuCO2C2O4CCuO2X4', pbc=True, cell=[[27.14, 0.0, 0.0], [-0.2846778772582845, 27.138506932147166, 0.0], [0.0, 0.14211187646410792, 27.139627930658296]]),\n",
       " Atoms(symbols='CCuO2CuCO2C2O4X4', pbc=True, cell=[[27.14, 0.0, 0.0], [-0.2846778772582845, 27.138506932147166, 0.0], [0.0, 0.14211187646410792, 27.139627930658296]]),\n",
       " Atoms(symbols='C6H3X3', pbc=True, cell=[[27.14, 0.0, 0.0], [-0.2846778772582845, 27.138506932147166, 0.0], [0.0, 0.14211187646410792, 27.139627930658296]]),\n",
       " Atoms(symbols='CCuO2CuCO2C2O4X4', pbc=True, cell=[[27.14, 0.0, 0.0], [-0.2846778772582845, 27.138506932147166, 0.0], [0.0, 0.14211187646410792, 27.139627930658296]]),\n",
       " Atoms(symbols='CCuO2CuCO2C2O4X4', pbc=True, cell=[[27.14, 0.0, 0.0], [-0.2846778772582845, 27.138506932147166, 0.0], [0.0, 0.14211187646410792, 27.139627930658296]]),\n",
       " Atoms(symbols='CH3C5X3', pbc=True, cell=[[27.14, 0.0, 0.0], [-0.2846778772582845, 27.138506932147166, 0.0], [0.0, 0.14211187646410792, 27.139627930658296]]),\n",
       " Atoms(symbols='O2CCuO2CuCO2C2O2X4', pbc=True, cell=[[27.14, 0.0, 0.0], [-0.2846778772582845, 27.138506932147166, 0.0], [0.0, 0.14211187646410792, 27.139627930658296]]),\n",
       " Atoms(symbols='C2O4CCuO2CuCO2X4', pbc=True, cell=[[27.14, 0.0, 0.0], [-0.2846778772582845, 27.138506932147166, 0.0], [0.0, 0.14211187646410792, 27.139627930658296]]),\n",
       " Atoms(symbols='C6H3X3', pbc=True, cell=[[27.14, 0.0, 0.0], [-0.2846778772582845, 27.138506932147166, 0.0], [0.0, 0.14211187646410792, 27.139627930658296]]),\n",
       " Atoms(symbols='O2CuCO2C2O4CCuX4', pbc=True, cell=[[27.14, 0.0, 0.0], [-0.2846778772582845, 27.138506932147166, 0.0], [0.0, 0.14211187646410792, 27.139627930658296]]),\n",
       " Atoms(symbols='C6H3X3', pbc=True, cell=[[27.14, 0.0, 0.0], [-0.2846778772582845, 27.138506932147166, 0.0], [0.0, 0.14211187646410792, 27.139627930658296]]),\n",
       " Atoms(symbols='CCuO2CuCO2C2O4X4', pbc=True, cell=[[27.14, 0.0, 0.0], [-0.2846778772582845, 27.138506932147166, 0.0], [0.0, 0.14211187646410792, 27.139627930658296]]),\n",
       " Atoms(symbols='C6H3X3', pbc=True, cell=[[27.14, 0.0, 0.0], [-0.2846778772582845, 27.138506932147166, 0.0], [0.0, 0.14211187646410792, 27.139627930658296]]),\n",
       " Atoms(symbols='CCuO2CuCO2C2O4X4', pbc=True, cell=[[27.14, 0.0, 0.0], [-0.2846778772582845, 27.138506932147166, 0.0], [0.0, 0.14211187646410792, 27.139627930658296]]),\n",
       " Atoms(symbols='C5H3CX3', pbc=True, cell=[[27.14, 0.0, 0.0], [-0.2846778772582845, 27.138506932147166, 0.0], [0.0, 0.14211187646410792, 27.139627930658296]]),\n",
       " Atoms(symbols='C6H3X3', pbc=True, cell=[[27.14, 0.0, 0.0], [-0.2846778772582845, 27.138506932147166, 0.0], [0.0, 0.14211187646410792, 27.139627930658296]]),\n",
       " Atoms(symbols='CCuO2CuCO2C2O4X4', pbc=True, cell=[[27.14, 0.0, 0.0], [-0.2846778772582845, 27.138506932147166, 0.0], [0.0, 0.14211187646410792, 27.139627930658296]]),\n",
       " Atoms(symbols='CuCO2C2O4CCuO2X4', pbc=True, cell=[[27.14, 0.0, 0.0], [-0.2846778772582845, 27.138506932147166, 0.0], [0.0, 0.14211187646410792, 27.139627930658296]]),\n",
       " Atoms(symbols='C6H3X3', pbc=True, cell=[[27.14, 0.0, 0.0], [-0.2846778772582845, 27.138506932147166, 0.0], [0.0, 0.14211187646410792, 27.139627930658296]]),\n",
       " Atoms(symbols='CCuO2CuCO2C2O4X4', pbc=True, cell=[[27.14, 0.0, 0.0], [-0.2846778772582845, 27.138506932147166, 0.0], [0.0, 0.14211187646410792, 27.139627930658296]]),\n",
       " Atoms(symbols='O2C2O4CCuO2CuCX4', pbc=True, cell=[[27.14, 0.0, 0.0], [-0.2846778772582845, 27.138506932147166, 0.0], [0.0, 0.14211187646410792, 27.139627930658296]]),\n",
       " Atoms(symbols='H3C6X3', pbc=True, cell=[[27.14, 0.0, 0.0], [-0.2846778772582845, 27.138506932147166, 0.0], [0.0, 0.14211187646410792, 27.139627930658296]]),\n",
       " Atoms(symbols='CCuO2CuCO2C2O4X4', pbc=True, cell=[[27.14, 0.0, 0.0], [-0.2846778772582845, 27.138506932147166, 0.0], [0.0, 0.14211187646410792, 27.139627930658296]]),\n",
       " Atoms(symbols='C6H3X3', pbc=True, cell=[[27.14, 0.0, 0.0], [-0.2846778772582845, 27.138506932147166, 0.0], [0.0, 0.14211187646410792, 27.139627930658296]]),\n",
       " Atoms(symbols='O4CCuO2CuCO2C2X4', pbc=True, cell=[[27.14, 0.0, 0.0], [-0.2846778772582845, 27.138506932147166, 0.0], [0.0, 0.14211187646410792, 27.139627930658296]]),\n",
       " Atoms(symbols='C6H3X3', pbc=True, cell=[[27.14, 0.0, 0.0], [-0.2846778772582845, 27.138506932147166, 0.0], [0.0, 0.14211187646410792, 27.139627930658296]]),\n",
       " Atoms(symbols='CCuO2CuCO2C2O4X4', pbc=True, cell=[[27.14, 0.0, 0.0], [-0.2846778772582845, 27.138506932147166, 0.0], [0.0, 0.14211187646410792, 27.139627930658296]]),\n",
       " Atoms(symbols='CCuO2CuCO2C2O4X4', pbc=True, cell=[[27.14, 0.0, 0.0], [-0.2846778772582845, 27.138506932147166, 0.0], [0.0, 0.14211187646410792, 27.139627930658296]]),\n",
       " Atoms(symbols='C6H3X3', pbc=True, cell=[[27.14, 0.0, 0.0], [-0.2846778772582845, 27.138506932147166, 0.0], [0.0, 0.14211187646410792, 27.139627930658296]]),\n",
       " Atoms(symbols='CCuO2CuCO2C2O4X4', pbc=True, cell=[[27.14, 0.0, 0.0], [-0.2846778772582845, 27.138506932147166, 0.0], [0.0, 0.14211187646410792, 27.139627930658296]]),\n",
       " Atoms(symbols='C4H3C2X3', pbc=True, cell=[[27.14, 0.0, 0.0], [-0.2846778772582845, 27.138506932147166, 0.0], [0.0, 0.14211187646410792, 27.139627930658296]]),\n",
       " Atoms(symbols='C6H3X3', pbc=True, cell=[[27.14, 0.0, 0.0], [-0.2846778772582845, 27.138506932147166, 0.0], [0.0, 0.14211187646410792, 27.139627930658296]]),\n",
       " Atoms(symbols='CCuO2CuCO2C2O4X4', pbc=True, cell=[[27.14, 0.0, 0.0], [-0.2846778772582845, 27.138506932147166, 0.0], [0.0, 0.14211187646410792, 27.139627930658296]]),\n",
       " Atoms(symbols='C6H3X3', pbc=True, cell=[[27.14, 0.0, 0.0], [-0.2846778772582845, 27.138506932147166, 0.0], [0.0, 0.14211187646410792, 27.139627930658296]]),\n",
       " Atoms(symbols='C2O4CCuO2CuCO2X4', pbc=True, cell=[[27.14, 0.0, 0.0], [-0.2846778772582845, 27.138506932147166, 0.0], [0.0, 0.14211187646410792, 27.139627930658296]]),\n",
       " Atoms(symbols='H2C6HX3', pbc=True, cell=[[27.14, 0.0, 0.0], [-0.2846778772582845, 27.138506932147166, 0.0], [0.0, 0.14211187646410792, 27.139627930658296]]),\n",
       " Atoms(symbols='C6H3X3', pbc=True, cell=[[27.14, 0.0, 0.0], [-0.2846778772582845, 27.138506932147166, 0.0], [0.0, 0.14211187646410792, 27.139627930658296]]),\n",
       " Atoms(symbols='C6H3X3', pbc=True, cell=[[27.14, 0.0, 0.0], [-0.2846778772582845, 27.138506932147166, 0.0], [0.0, 0.14211187646410792, 27.139627930658296]]),\n",
       " Atoms(symbols='CCuO2CuCO2C2O4X4', pbc=True, cell=[[27.14, 0.0, 0.0], [-0.2846778772582845, 27.138506932147166, 0.0], [0.0, 0.14211187646410792, 27.139627930658296]]),\n",
       " Atoms(symbols='C6H3X3', pbc=True, cell=[[27.14, 0.0, 0.0], [-0.2846778772582845, 27.138506932147166, 0.0], [0.0, 0.14211187646410792, 27.139627930658296]]),\n",
       " Atoms(symbols='C3H3C3X3', pbc=True, cell=[[27.14, 0.0, 0.0], [-0.2846778772582845, 27.138506932147166, 0.0], [0.0, 0.14211187646410792, 27.139627930658296]]),\n",
       " Atoms(symbols='C6H3X3', pbc=True, cell=[[27.14, 0.0, 0.0], [-0.2846778772582845, 27.138506932147166, 0.0], [0.0, 0.14211187646410792, 27.139627930658296]]),\n",
       " Atoms(symbols='C6H3X3', pbc=True, cell=[[27.14, 0.0, 0.0], [-0.2846778772582845, 27.138506932147166, 0.0], [0.0, 0.14211187646410792, 27.139627930658296]]),\n",
       " Atoms(symbols='HC6H2X3', pbc=True, cell=[[27.14, 0.0, 0.0], [-0.2846778772582845, 27.138506932147166, 0.0], [0.0, 0.14211187646410792, 27.139627930658296]]),\n",
       " Atoms(symbols='C6H3X3', pbc=True, cell=[[27.14, 0.0, 0.0], [-0.2846778772582845, 27.138506932147166, 0.0], [0.0, 0.14211187646410792, 27.139627930658296]]),\n",
       " Atoms(symbols='C6H3X3', pbc=True, cell=[[27.14, 0.0, 0.0], [-0.2846778772582845, 27.138506932147166, 0.0], [0.0, 0.14211187646410792, 27.139627930658296]]),\n",
       " Atoms(symbols='C6H3X3', pbc=True, cell=[[27.14, 0.0, 0.0], [-0.2846778772582845, 27.138506932147166, 0.0], [0.0, 0.14211187646410792, 27.139627930658296]]),\n",
       " Atoms(symbols='C2H3C4X3', pbc=True, cell=[[27.14, 0.0, 0.0], [-0.2846778772582845, 27.138506932147166, 0.0], [0.0, 0.14211187646410792, 27.139627930658296]]),\n",
       " Atoms(symbols='C6H3X3', pbc=True, cell=[[27.14, 0.0, 0.0], [-0.2846778772582845, 27.138506932147166, 0.0], [0.0, 0.14211187646410792, 27.139627930658296]]),\n",
       " Atoms(symbols='C6H3X3', pbc=True, cell=[[27.14, 0.0, 0.0], [-0.2846778772582845, 27.138506932147166, 0.0], [0.0, 0.14211187646410792, 27.139627930658296]]),\n",
       " Atoms(symbols='C6H3X3', pbc=True, cell=[[27.14, 0.0, 0.0], [-0.2846778772582845, 27.138506932147166, 0.0], [0.0, 0.14211187646410792, 27.139627930658296]])]"
      ]
     },
     "execution_count": 6,
     "metadata": {},
     "output_type": "execute_result"
    }
   ],
   "source": [
    "decomposer.building_blocks"
   ]
  },
  {
   "cell_type": "code",
   "execution_count": 7,
   "metadata": {},
   "outputs": [
    {
     "data": {
      "text/plain": [
       "<Popen: returncode: None args: ['/home/lsw91/miniforge3/envs/py310/bin/pytho...>"
      ]
     },
     "execution_count": 7,
     "metadata": {},
     "output_type": "execute_result"
    }
   ],
   "source": [
    "from ase.visualize import view\n",
    "\n",
    "view(decomposer.building_blocks[0])\n",
    "view(decomposer.building_blocks[1])"
   ]
  },
  {
   "cell_type": "code",
   "execution_count": 8,
   "metadata": {},
   "outputs": [
    {
     "name": "stdout",
     "output_type": "stream",
     "text": [
      "dict_keys([154263, 865992])\n"
     ]
    }
   ],
   "source": [
    "from collections import defaultdict\n",
    "from pormake.experimental.decomposer import hash_atoms\n",
    "\n",
    "\n",
    "bb_dict = defaultdict(list)\n",
    "for atoms in decomposer.building_blocks:\n",
    "    hash_ = hash_atoms(atoms)\n",
    "    bb_dict[hash_].append(atoms)\n",
    "\n",
    "print(bb_dict.keys())"
   ]
  },
  {
   "cell_type": "code",
   "execution_count": 9,
   "metadata": {},
   "outputs": [
    {
     "data": {
      "text/plain": [
       "0"
      ]
     },
     "execution_count": 9,
     "metadata": {},
     "output_type": "execute_result"
    }
   ],
   "source": [
    "from pormake.experimental.decomposer import estimate_atoms_dimension\n",
    "\n",
    "estimate_atoms_dimension(decomposer.building_blocks[0])"
   ]
  }
 ],
 "metadata": {
  "kernelspec": {
   "display_name": "py310",
   "language": "python",
   "name": "python3"
  },
  "language_info": {
   "codemirror_mode": {
    "name": "ipython",
    "version": 3
   },
   "file_extension": ".py",
   "mimetype": "text/x-python",
   "name": "python",
   "nbconvert_exporter": "python",
   "pygments_lexer": "ipython3",
   "version": "3.10.12"
  },
  "orig_nbformat": 4
 },
 "nbformat": 4,
 "nbformat_minor": 2
}
