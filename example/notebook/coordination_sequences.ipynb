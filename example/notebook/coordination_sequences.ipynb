{
 "cells": [
  {
   "cell_type": "code",
   "execution_count": 1,
   "metadata": {},
   "outputs": [],
   "source": [
    "import pormake as pm"
   ]
  },
  {
   "cell_type": "code",
   "execution_count": 2,
   "metadata": {},
   "outputs": [
    {
     "name": "stdout",
     "output_type": "stream",
     "text": [
      "===============================================================================\n",
      "Topology dia\n",
      "Spacegroup: Fd-3m:2\n",
      "-------------------------------------------------------------------------------\n",
      "# of slots: 24 (8 nodes, 16 edges)\n",
      "# of node types: 1\n",
      "# of edge types: 1\n",
      "\n",
      "-------------------------------------------------------------------------------\n",
      "Node type information\n",
      "-------------------------------------------------------------------------------\n",
      "Node type: 0, CN: 4\n",
      "  slot indices: 0, 1, 2, 3, 4, 5, 6, 7\n",
      "\n",
      "-------------------------------------------------------------------------------\n",
      "Edge type information (adjacent node types) \n",
      "-------------------------------------------------------------------------------\n",
      "Edge type: (0, 0)\n",
      "  slot indices: 8, 9, 10, 11, 12, 13, 14, 15, 16, 17\n",
      "                18, 19, 20, 21, 22, 23\n",
      "===============================================================================\n"
     ]
    }
   ],
   "source": [
    "db = pm.Database()\n",
    "topo = db.get_topo(\"dia\")\n",
    "topo.describe()"
   ]
  },
  {
   "cell_type": "code",
   "execution_count": 3,
   "metadata": {},
   "outputs": [],
   "source": [
    "import numpy as np\n",
    "\n",
    "\n",
    "def get_neighbor_nodes(topo, i):\n",
    "    \"\"\"\n",
    "    Get indices and cell shifts of the neighbor nodes of the atom at index i.\n",
    "\n",
    "    Parameters\n",
    "    ----------\n",
    "    topo : Topology\n",
    "        The topology object.\n",
    "    i : int\n",
    "        The index of the atom.\n",
    "\n",
    "    Returns\n",
    "    -------\n",
    "    nodes : list\n",
    "        A list of tuples, each containing the index and cell shift of a neighbor node.\n",
    "    \"\"\"\n",
    "    inv_cell = np.linalg.inv(topo.atoms.cell)\n",
    "    edges = topo.neighbor_list[i]\n",
    "    nodes = []\n",
    "    for edge in edges:\n",
    "        for node in topo.neighbor_list[edge.index]:\n",
    "            if np.abs(node.distance_vector + edge.distance_vector).sum() < 1e-4:\n",
    "                continue\n",
    "            \n",
    "            d = 2 * edge.distance_vector\n",
    "            di = topo.atoms.positions[i]\n",
    "            dj = topo.atoms.positions[node.index]\n",
    "            # d = dj - di + c @ s.\n",
    "            # s = inv_cell @ (dj - di - d)\n",
    "            s = np.round(inv_cell @ (dj - di - d)).astype(int).tolist()\n",
    "            nodes.append((int(node.index), tuple(s)))\n",
    "\n",
    "    return sorted(nodes)"
   ]
  },
  {
   "cell_type": "code",
   "execution_count": 4,
   "metadata": {},
   "outputs": [
    {
     "data": {
      "text/plain": [
       "[(1, (0, 0, 1)), (3, (1, 0, 0)), (4, (1, 0, 1)), (7, (0, 0, 0))]"
      ]
     },
     "execution_count": 4,
     "metadata": {},
     "output_type": "execute_result"
    }
   ],
   "source": [
    "get_neighbor_nodes(topo, 0)"
   ]
  },
  {
   "cell_type": "code",
   "execution_count": 5,
   "metadata": {},
   "outputs": [],
   "source": [
    "from collections import deque, defaultdict\n",
    "\n",
    "\n",
    "def estimate_coordination_sequence(topo, i, max_level=10):\n",
    "    \"\"\"\n",
    "    Estimate the coordination sequence of the atom at index i.\n",
    "\n",
    "    Parameters\n",
    "    ----------\n",
    "    topo : Topology\n",
    "        The topology object.\n",
    "    i : int\n",
    "        The index of the atom.\n",
    "    max_level : int, optional\n",
    "        The maximum level of the coordination sequence.\n",
    "\n",
    "    Returns\n",
    "    -------\n",
    "    coordination_sequence : list\n",
    "        The estimated coordination sequence.\n",
    "    \"\"\"\n",
    "    q = deque([\n",
    "        (i, (0, 0, 0), 0),\n",
    "    ])\n",
    "    visited = set([\n",
    "        (i, (0, 0, 0))\n",
    "    ])\n",
    "\n",
    "    full_visited = set([\n",
    "        (i, (0, 0, 0), 0)\n",
    "    ])\n",
    "\n",
    "    while q:\n",
    "        node = q.popleft()\n",
    "        \n",
    "        if node[2] >= max_level:\n",
    "            continue\n",
    "\n",
    "        depth = node[2]\n",
    "        nodes = get_neighbor_nodes(topo, node[0])\n",
    "        new_nodes = []\n",
    "        for n, s in nodes:\n",
    "            new_s = (\n",
    "                s[0] + node[1][0],\n",
    "                s[1] + node[1][1],\n",
    "                s[2] + node[1][2],\n",
    "            )\n",
    "            new_nodes.append((n, new_s, depth + 1))\n",
    "\n",
    "        new_nodes = [n for n in new_nodes if n[:2] not in visited]\n",
    "        q.extend(new_nodes)\n",
    "        visited.update([(n, s) for n, s, _ in new_nodes])\n",
    "        full_visited.update(new_nodes)\n",
    "\n",
    "    count_depth = defaultdict(int)\n",
    "    for n, s, d in list(full_visited):\n",
    "        count_depth[d] += 1\n",
    "\n",
    "    return [\n",
    "        cs for _, cs in sorted(count_depth.items())[1:]\n",
    "    ]\n"
   ]
  },
  {
   "cell_type": "code",
   "execution_count": 6,
   "metadata": {},
   "outputs": [
    {
     "name": "stdout",
     "output_type": "stream",
     "text": [
      "Estimated coordination sequence for atom 0: [4, 12, 24, 42, 64, 92, 124, 162, 204, 252]\n",
      "Estimated coordination sequence for atom 1: [4, 12, 24, 42, 64, 92, 124, 162, 204, 252]\n",
      "Estimated coordination sequence for atom 2: [4, 12, 24, 42, 64, 92, 124, 162, 204, 252]\n",
      "Estimated coordination sequence for atom 3: [4, 12, 24, 42, 64, 92, 124, 162, 204, 252]\n",
      "Estimated coordination sequence for atom 4: [4, 12, 24, 42, 64, 92, 124, 162, 204, 252]\n",
      "Estimated coordination sequence for atom 5: [4, 12, 24, 42, 64, 92, 124, 162, 204, 252]\n",
      "Estimated coordination sequence for atom 6: [4, 12, 24, 42, 64, 92, 124, 162, 204, 252]\n",
      "Estimated coordination sequence for atom 7: [4, 12, 24, 42, 64, 92, 124, 162, 204, 252]\n"
     ]
    }
   ],
   "source": [
    "cs_list = []\n",
    "for i in topo.node_indices:\n",
    "    cs = estimate_coordination_sequence(topo, i)\n",
    "    cs_list.append(cs)\n",
    "\n",
    "    print(f\"Estimated coordination sequence for atom {i}: {cs}\")"
   ]
  },
  {
   "cell_type": "code",
   "execution_count": 7,
   "metadata": {},
   "outputs": [
    {
     "name": "stdout",
     "output_type": "stream",
     "text": [
      "((4, 12, 24, 42, 64, 92, 124, 162, 204, 252),)\n"
     ]
    }
   ],
   "source": [
    "cs_list = set([tuple(cs) for cs in cs_list])\n",
    "cs_list = list(cs_list)\n",
    "cs_list.sort()\n",
    "\n",
    "# Unique key for a topology.\n",
    "unique_key = tuple(cs_list)\n",
    "\n",
    "print(unique_key)"
   ]
  },
  {
   "cell_type": "code",
   "execution_count": null,
   "metadata": {},
   "outputs": [],
   "source": []
  }
 ],
 "metadata": {
  "kernelspec": {
   "display_name": ".venv",
   "language": "python",
   "name": "python3"
  },
  "language_info": {
   "codemirror_mode": {
    "name": "ipython",
    "version": 3
   },
   "file_extension": ".py",
   "mimetype": "text/x-python",
   "name": "python",
   "nbconvert_exporter": "python",
   "pygments_lexer": "ipython3",
   "version": "3.10.3"
  }
 },
 "nbformat": 4,
 "nbformat_minor": 2
}
